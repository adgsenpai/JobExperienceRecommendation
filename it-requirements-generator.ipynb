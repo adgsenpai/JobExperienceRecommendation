{
 "cells": [
  {
   "cell_type": "markdown",
   "metadata": {},
   "source": [
    "# Job Recommendations \n",
    "\n",
    "This notebook creates a model, to recommend job positions given a position requirements description . This is done only for IT jobs. "
   ]
  },
  {
   "cell_type": "code",
   "execution_count": 1,
   "metadata": {
    "_cell_guid": "b1076dfc-b9ad-4769-8c92-a6c4dae69d19",
    "_uuid": "8f2839f25d086af736a60e9eeb907d3b93b6e0e5"
   },
   "outputs": [],
   "source": [
    "import numpy as np \n",
    "import pandas as pd \n",
    "from sklearn.feature_extraction import DictVectorizer\n",
    "from sklearn.feature_extraction.text import CountVectorizer\n",
    "from sklearn.model_selection import train_test_split\n",
    "\n",
    "import nltk\n",
    "from nltk.corpus import stopwords\n",
    "from sklearn.preprocessing import LabelEncoder\n",
    "from sklearn.mixture import GaussianMixture\n",
    "from sklearn.cluster import KMeans\n",
    "from sklearn.metrics import accuracy_score, auc, roc_curve, roc_auc_score"
   ]
  },
  {
   "cell_type": "code",
   "execution_count": 2,
   "metadata": {},
   "outputs": [
    {
     "name": "stdout",
     "output_type": "stream",
     "text": [
      "Index(['jobpost', 'date', 'Title', 'Company', 'AnnouncementCode', 'Term',\n",
      "       'Eligibility', 'Audience', 'StartDate', 'Duration', 'Location',\n",
      "       'JobDescription', 'JobRequirement', 'RequiredQual', 'Salary',\n",
      "       'ApplicationP', 'OpeningDate', 'Deadline', 'Notes', 'AboutC', 'Attach',\n",
      "       'Year', 'Month', 'IT'],\n",
      "      dtype='object')\n"
     ]
    },
    {
     "data": {
      "text/html": [
       "<div>\n",
       "<style scoped>\n",
       "    .dataframe tbody tr th:only-of-type {\n",
       "        vertical-align: middle;\n",
       "    }\n",
       "\n",
       "    .dataframe tbody tr th {\n",
       "        vertical-align: top;\n",
       "    }\n",
       "\n",
       "    .dataframe thead th {\n",
       "        text-align: right;\n",
       "    }\n",
       "</style>\n",
       "<table border=\"1\" class=\"dataframe\">\n",
       "  <thead>\n",
       "    <tr style=\"text-align: right;\">\n",
       "      <th></th>\n",
       "      <th>RequiredQual</th>\n",
       "      <th>Title</th>\n",
       "      <th>JobDescription</th>\n",
       "      <th>JobRequirement</th>\n",
       "    </tr>\n",
       "  </thead>\n",
       "  <tbody>\n",
       "    <tr>\n",
       "      <th>0</th>\n",
       "      <td>To perform this job successfully, an\\r\\nindivi...</td>\n",
       "      <td>Chief Financial Officer</td>\n",
       "      <td>AMERIA Investment Consulting Company is seekin...</td>\n",
       "      <td>- Supervises financial management and administ...</td>\n",
       "    </tr>\n",
       "    <tr>\n",
       "      <th>1</th>\n",
       "      <td>- Bachelor's Degree; Master's is preferred;\\r\\...</td>\n",
       "      <td>Full-time Community Connections Intern (paid i...</td>\n",
       "      <td>NaN</td>\n",
       "      <td>NaN</td>\n",
       "    </tr>\n",
       "    <tr>\n",
       "      <th>2</th>\n",
       "      <td>- Degree in environmentally related field, or ...</td>\n",
       "      <td>Country Coordinator</td>\n",
       "      <td>Public outreach and strengthening of a growing...</td>\n",
       "      <td>- Working with the Country Director to provide...</td>\n",
       "    </tr>\n",
       "    <tr>\n",
       "      <th>3</th>\n",
       "      <td>- Advanced degree in public health, social sci...</td>\n",
       "      <td>BCC Specialist</td>\n",
       "      <td>The LEAD (Local Enhancement and Development fo...</td>\n",
       "      <td>- Identify gaps in knowledge and overseeing in...</td>\n",
       "    </tr>\n",
       "    <tr>\n",
       "      <th>4</th>\n",
       "      <td>- University degree; economical background is ...</td>\n",
       "      <td>Software Developer</td>\n",
       "      <td>NaN</td>\n",
       "      <td>- Rendering technical assistance to Database M...</td>\n",
       "    </tr>\n",
       "  </tbody>\n",
       "</table>\n",
       "</div>"
      ],
      "text/plain": [
       "                                        RequiredQual  \\\n",
       "0  To perform this job successfully, an\\r\\nindivi...   \n",
       "1  - Bachelor's Degree; Master's is preferred;\\r\\...   \n",
       "2  - Degree in environmentally related field, or ...   \n",
       "3  - Advanced degree in public health, social sci...   \n",
       "4  - University degree; economical background is ...   \n",
       "\n",
       "                                               Title  \\\n",
       "0                            Chief Financial Officer   \n",
       "1  Full-time Community Connections Intern (paid i...   \n",
       "2                                Country Coordinator   \n",
       "3                                     BCC Specialist   \n",
       "4                                 Software Developer   \n",
       "\n",
       "                                      JobDescription  \\\n",
       "0  AMERIA Investment Consulting Company is seekin...   \n",
       "1                                                NaN   \n",
       "2  Public outreach and strengthening of a growing...   \n",
       "3  The LEAD (Local Enhancement and Development fo...   \n",
       "4                                                NaN   \n",
       "\n",
       "                                      JobRequirement  \n",
       "0  - Supervises financial management and administ...  \n",
       "1                                                NaN  \n",
       "2  - Working with the Country Director to provide...  \n",
       "3  - Identify gaps in knowledge and overseeing in...  \n",
       "4  - Rendering technical assistance to Database M...  "
      ]
     },
     "execution_count": 2,
     "metadata": {},
     "output_type": "execute_result"
    }
   ],
   "source": [
    "data = pd.read_csv('data.csv')\n",
    "print(data.columns)\n",
    "# selecting only IT Jobs\n",
    "df = data\n",
    "# selecting \n",
    "cols = ['RequiredQual','Title', 'JobDescription', 'JobRequirement']\n",
    "df=df[cols]\n",
    "df.head(5)"
   ]
  },
  {
   "cell_type": "markdown",
   "metadata": {},
   "source": [
    "# Modifying Job Titles\n",
    "Selecting only top 21 job titles, to manage class imbalance"
   ]
  },
  {
   "cell_type": "code",
   "execution_count": 3,
   "metadata": {},
   "outputs": [
    {
     "data": {
      "text/plain": [
       "Accountant                                328\n",
       "Chief Accountant                          219\n",
       "Medical Representative                    216\n",
       "Sales Manager                             166\n",
       "Administrative Assistant                  155\n",
       "Lawyer                                    151\n",
       "Software Developer                        134\n",
       "Project Manager                           117\n",
       "English Language Courses                  109\n",
       "Web Developer                             101\n",
       "Java Developer                             88\n",
       "Marketing Specialist                       87\n",
       "Office Manager                             85\n",
       "Receptionist/ Administrative Assistant     77\n",
       "System Administrator                       75\n",
       "Graphic Designer                           75\n",
       "Marketing Manager                          72\n",
       "Software Engineer                          69\n",
       "Senior Java Developer                      69\n",
       "QA Engineer                                66\n",
       "PHP Developer                              65\n",
       "Name: Title, dtype: int64"
      ]
     },
     "execution_count": 3,
     "metadata": {},
     "output_type": "execute_result"
    }
   ],
   "source": [
    "classes = df['Title'].value_counts()[:21]\n",
    "keys = classes.keys().to_list()\n",
    "\n",
    "df = df[df['Title'].isin(keys)]\n",
    "df['Title'].value_counts()"
   ]
  },
  {
   "attachments": {},
   "cell_type": "markdown",
   "metadata": {},
   "source": [
    "Change job titles to base title. For example, chaning Senior Java Developer to Java Developer.   "
   ]
  },
  {
   "cell_type": "code",
   "execution_count": 4,
   "metadata": {},
   "outputs": [
    {
     "data": {
      "text/plain": [
       "Accountant                                328\n",
       "Chief Accountant                          219\n",
       "Medical Representative                    216\n",
       "Sales Manager                             166\n",
       "Java Developer                            157\n",
       "Administrative Assistant                  155\n",
       "Lawyer                                    151\n",
       "Software Developer                        134\n",
       "Project Manager                           117\n",
       "English Language Courses                  109\n",
       "Web Developer                             101\n",
       "Marketing Specialist                       87\n",
       "Office Manager                             85\n",
       "Receptionist/ Administrative Assistant     77\n",
       "System Administrator                       75\n",
       "Graphic Designer                           75\n",
       "Marketing Manager                          72\n",
       "Software Engineer                          69\n",
       "QA Engineer                                66\n",
       "PHP Developer                              65\n",
       "Name: Title, dtype: int64"
      ]
     },
     "execution_count": 4,
     "metadata": {},
     "output_type": "execute_result"
    }
   ],
   "source": [
    "def chane_titles(x):\n",
    "    x = x.strip()\n",
    "    if x == 'Senior Java Developer':\n",
    "        return 'Java Developer'\n",
    "    elif x == 'Senior Software Engineer':\n",
    "        return 'Software Engineer'\n",
    "    elif x == 'Senior QA Engineer':\n",
    "        return 'Software QA Engineer'\n",
    "    elif x == 'Senior Software Developer':\n",
    "        return 'Senior Web Developer'\n",
    "    elif x =='Senior PHP Developer':\n",
    "        return 'PHP Developer'\n",
    "    elif x == 'Senior .NET Developer':\n",
    "        return '.NET Developer'\n",
    "    elif x == 'Senior Web Developer':\n",
    "        return 'Web Developer'\n",
    "    elif x == 'Database Administrator':\n",
    "        return 'Database Admin/Dev'\n",
    "    elif x == 'Database Developer':\n",
    "        return 'Database Admin/Dev'\n",
    "\n",
    "    else:\n",
    "        return x\n",
    "        \n",
    "    \n",
    "df['Title'] = df['Title'].apply(chane_titles)\n",
    "df['Title'].value_counts()"
   ]
  },
  {
   "cell_type": "markdown",
   "metadata": {},
   "source": [
    "# Building custom tokenizer to process text"
   ]
  },
  {
   "cell_type": "code",
   "execution_count": 5,
   "metadata": {},
   "outputs": [],
   "source": [
    "from nltk import word_tokenize          \n",
    "from nltk.stem import WordNetLemmatizer \n",
    "class LemmaTokenizer(object):\n",
    "    def __init__(self):\n",
    "        # lemmatize text - convert to base form \n",
    "        self.wnl = WordNetLemmatizer()\n",
    "        # creating stopwords list, to ignore lemmatizing stopwords \n",
    "        self.stopwords = stopwords.words('english')\n",
    "    def __call__(self, doc):\n",
    "        return [self.wnl.lemmatize(t) for t in word_tokenize(doc) if t not in self.stopwords]\n",
    "\n",
    "# removing new line characters, and certain hypen patterns                  \n",
    "# convert all df['RequiredQual'] to string\n",
    "df['RequiredQual'] = df['RequiredQual'].astype(str)\n",
    "df['RequiredQual']=df['RequiredQual'].apply(lambda x: x.replace('\\n', ' ').replace('\\r', '').replace('- ', ''). replace(' - ', ' to '))"
   ]
  },
  {
   "cell_type": "markdown",
   "metadata": {},
   "source": [
    "# Featurizing Text"
   ]
  },
  {
   "cell_type": "code",
   "execution_count": 6,
   "metadata": {},
   "outputs": [
    {
     "name": "stderr",
     "output_type": "stream",
     "text": [
      "c:\\Python310\\lib\\site-packages\\sklearn\\feature_extraction\\text.py:524: UserWarning: The parameter 'token_pattern' will not be used since 'tokenizer' is not None'\n",
      "  warnings.warn(\n",
      "c:\\Python310\\lib\\site-packages\\sklearn\\feature_extraction\\text.py:404: UserWarning: Your stop_words may be inconsistent with your preprocessing. Tokenizing the stop words generated tokens ['le', 'u'] not in stop_words.\n",
      "  warnings.warn(\n"
     ]
    }
   ],
   "source": [
    "from sklearn.feature_extraction.text import TfidfVectorizer\n",
    "# train features and labels \n",
    "y = df['Title']\n",
    "X = df['RequiredQual']\n",
    "# tdif feature rep \n",
    "vectorizer = TfidfVectorizer(tokenizer=LemmaTokenizer(), stop_words='english')\n",
    "vectorizer.fit(X)\n",
    "# transoforming text to tdif features\n",
    "tfidf_matrix = vectorizer.transform(X)\n",
    "# sparse matrix to dense matrix for training\n",
    "X_tdif = tfidf_matrix.toarray()\n",
    "# encoding text labels in categories \n",
    "enc = LabelEncoder() \n",
    "enc.fit(y.values)\n",
    "y_enc=enc.transform(y.values)\n",
    "\n",
    "X_train_words, X_test_words, y_train, y_test = train_test_split(X, y_enc, test_size=0.15, random_state=10)\n",
    "\n",
    "X_train = vectorizer.transform(X_train_words)\n",
    "X_train = X_train.toarray()\n",
    "\n",
    "X_test = vectorizer.transform(X_test_words)\n",
    "X_test = X_test.toarray()\n"
   ]
  },
  {
   "cell_type": "markdown",
   "metadata": {},
   "source": [
    "# Training Naive Bayes\n",
    "Looks pretty overfit"
   ]
  },
  {
   "cell_type": "code",
   "execution_count": 7,
   "metadata": {},
   "outputs": [
    {
     "name": "stdout",
     "output_type": "stream",
     "text": [
      "Train acc: 0.9263403263403264\n",
      "Test acc: 0.7282321899736148\n"
     ]
    }
   ],
   "source": [
    "from sklearn.naive_bayes import GaussianNB, MultinomialNB\n",
    "from sklearn.discriminant_analysis import LinearDiscriminantAnalysis\n",
    "gnb = GaussianNB()\n",
    "train_preds = gnb.fit(X_train, y_train).predict(X_train)\n",
    "test_preds = gnb.predict(X_test)\n",
    "\n",
    "print('Train acc: {0}'.format(accuracy_score(y_train, train_preds)))\n",
    "print('Test acc: {0}'.format(accuracy_score(y_test, test_preds)))\n"
   ]
  },
  {
   "cell_type": "markdown",
   "metadata": {},
   "source": [
    "# Training Logistic Regression\n",
    "By modifiying the maximum number of iterations, and regularization, C, the above experienced overfitting was reduced significantly \n"
   ]
  },
  {
   "cell_type": "code",
   "execution_count": 8,
   "metadata": {},
   "outputs": [
    {
     "name": "stderr",
     "output_type": "stream",
     "text": [
      "[Parallel(n_jobs=1)]: Using backend SequentialBackend with 1 concurrent workers.\n"
     ]
    },
    {
     "name": "stdout",
     "output_type": "stream",
     "text": [
      "Train acc: 0.8573426573426574\n",
      "Test acc: 0.7915567282321899\n"
     ]
    },
    {
     "name": "stderr",
     "output_type": "stream",
     "text": [
      "c:\\Python310\\lib\\site-packages\\sklearn\\linear_model\\_logistic.py:444: ConvergenceWarning: lbfgs failed to converge (status=1):\n",
      "STOP: TOTAL NO. of ITERATIONS REACHED LIMIT.\n",
      "\n",
      "Increase the number of iterations (max_iter) or scale the data as shown in:\n",
      "    https://scikit-learn.org/stable/modules/preprocessing.html\n",
      "Please also refer to the documentation for alternative solver options:\n",
      "    https://scikit-learn.org/stable/modules/linear_model.html#logistic-regression\n",
      "  n_iter_i = _check_optimize_result(\n",
      "[Parallel(n_jobs=1)]: Done   1 out of   1 | elapsed:    0.3s finished\n"
     ]
    }
   ],
   "source": [
    "from sklearn.linear_model import LogisticRegression\n",
    "\n",
    "logistic = LogisticRegression(max_iter=15,verbose=1, C=0.75)\n",
    "\n",
    "train_preds = logistic.fit(X_train, y_train).predict(X_train)\n",
    "test_preds = logistic.predict(X_test)\n",
    "\n",
    "print('Train acc: {0}'.format(accuracy_score(y_train, train_preds)))\n",
    "print('Test acc: {0}'.format(accuracy_score(y_test, test_preds)))\n"
   ]
  },
  {
   "cell_type": "markdown",
   "metadata": {},
   "source": [
    "# Creating Job Recommendations \n",
    "Recommends 2 job position alternatives given a job requirement. By obtaining probability of class predictions, and picking the top N predictions, other than true label, N closest recommendations can be got"
   ]
  },
  {
   "cell_type": "code",
   "execution_count": 11,
   "metadata": {},
   "outputs": [
    {
     "data": {
      "image/png": "[encoded data removed]",
      "text/plain": [
       "<Figure size 1000x1000 with 2 Axes>"
      ]
     },
     "metadata": {},
     "output_type": "display_data"
    },
    {
     "data": {
      "text/html": [
       "<div>\n",
       "<style scoped>\n",
       "    .dataframe tbody tr th:only-of-type {\n",
       "        vertical-align: middle;\n",
       "    }\n",
       "\n",
       "    .dataframe tbody tr th {\n",
       "        vertical-align: top;\n",
       "    }\n",
       "\n",
       "    .dataframe thead th {\n",
       "        text-align: right;\n",
       "    }\n",
       "</style>\n",
       "<table border=\"1\" class=\"dataframe\">\n",
       "  <thead>\n",
       "    <tr style=\"text-align: right;\">\n",
       "      <th></th>\n",
       "      <th>Current Position Requirements</th>\n",
       "      <th>Current Position</th>\n",
       "      <th>Alternative 1</th>\n",
       "      <th>Alternative 2</th>\n",
       "    </tr>\n",
       "  </thead>\n",
       "  <tbody>\n",
       "    <tr>\n",
       "      <th>0</th>\n",
       "      <td>University degree in Accounting or Finance; Kn...</td>\n",
       "      <td>Chief Accountant</td>\n",
       "      <td>Accountant</td>\n",
       "      <td>Project Manager</td>\n",
       "    </tr>\n",
       "    <tr>\n",
       "      <th>1</th>\n",
       "      <td>Higher education; Relevant work experience;  K...</td>\n",
       "      <td>Office Manager</td>\n",
       "      <td>Administrative Assistant</td>\n",
       "      <td>Sales Manager</td>\n",
       "    </tr>\n",
       "    <tr>\n",
       "      <th>2</th>\n",
       "      <td>At least 2 years of work experience in the fie...</td>\n",
       "      <td>Web Developer</td>\n",
       "      <td>PHP Developer</td>\n",
       "      <td>Java Developer</td>\n",
       "    </tr>\n",
       "    <tr>\n",
       "      <th>3</th>\n",
       "      <td>Education in Accounting/Finance; Work experien...</td>\n",
       "      <td>Accountant</td>\n",
       "      <td>Chief Accountant</td>\n",
       "      <td>Lawyer</td>\n",
       "    </tr>\n",
       "    <tr>\n",
       "      <th>4</th>\n",
       "      <td>University degree in Jurisprudence. Experience...</td>\n",
       "      <td>Lawyer</td>\n",
       "      <td>Accountant</td>\n",
       "      <td>Administrative Assistant</td>\n",
       "    </tr>\n",
       "    <tr>\n",
       "      <th>...</th>\n",
       "      <td>...</td>\n",
       "      <td>...</td>\n",
       "      <td>...</td>\n",
       "      <td>...</td>\n",
       "    </tr>\n",
       "    <tr>\n",
       "      <th>374</th>\n",
       "      <td>Higher medical education; Basic knowledge of m...</td>\n",
       "      <td>Medical Representative</td>\n",
       "      <td>Administrative Assistant</td>\n",
       "      <td>Sales Manager</td>\n",
       "    </tr>\n",
       "    <tr>\n",
       "      <th>375</th>\n",
       "      <td>Higher education; Ability to perform organizat...</td>\n",
       "      <td>Marketing Specialist</td>\n",
       "      <td>Sales Manager</td>\n",
       "      <td>Project Manager</td>\n",
       "    </tr>\n",
       "    <tr>\n",
       "      <th>376</th>\n",
       "      <td>Experience in designing and delivering complex...</td>\n",
       "      <td>Project Manager</td>\n",
       "      <td>Software Developer</td>\n",
       "      <td>Web Developer</td>\n",
       "    </tr>\n",
       "    <tr>\n",
       "      <th>377</th>\n",
       "      <td>Higher education in Finance/ Economics; At lea...</td>\n",
       "      <td>Chief Accountant</td>\n",
       "      <td>Accountant</td>\n",
       "      <td>Administrative Assistant</td>\n",
       "    </tr>\n",
       "    <tr>\n",
       "      <th>378</th>\n",
       "      <td>University or technical degree in Accounting o...</td>\n",
       "      <td>Accountant</td>\n",
       "      <td>Chief Accountant</td>\n",
       "      <td>Administrative Assistant</td>\n",
       "    </tr>\n",
       "  </tbody>\n",
       "</table>\n",
       "<p>379 rows × 4 columns</p>\n",
       "</div>"
      ],
      "text/plain": [
       "                         Current Position Requirements  \\\n",
       "0    University degree in Accounting or Finance; Kn...   \n",
       "1    Higher education; Relevant work experience;  K...   \n",
       "2    At least 2 years of work experience in the fie...   \n",
       "3    Education in Accounting/Finance; Work experien...   \n",
       "4    University degree in Jurisprudence. Experience...   \n",
       "..                                                 ...   \n",
       "374  Higher medical education; Basic knowledge of m...   \n",
       "375  Higher education; Ability to perform organizat...   \n",
       "376  Experience in designing and delivering complex...   \n",
       "377  Higher education in Finance/ Economics; At lea...   \n",
       "378  University or technical degree in Accounting o...   \n",
       "\n",
       "           Current Position             Alternative 1  \\\n",
       "0          Chief Accountant                Accountant   \n",
       "1            Office Manager  Administrative Assistant   \n",
       "2             Web Developer             PHP Developer   \n",
       "3                Accountant          Chief Accountant   \n",
       "4                    Lawyer                Accountant   \n",
       "..                      ...                       ...   \n",
       "374  Medical Representative  Administrative Assistant   \n",
       "375    Marketing Specialist             Sales Manager   \n",
       "376         Project Manager        Software Developer   \n",
       "377        Chief Accountant                Accountant   \n",
       "378              Accountant          Chief Accountant   \n",
       "\n",
       "                Alternative 2  \n",
       "0             Project Manager  \n",
       "1               Sales Manager  \n",
       "2              Java Developer  \n",
       "3                      Lawyer  \n",
       "4    Administrative Assistant  \n",
       "..                        ...  \n",
       "374             Sales Manager  \n",
       "375           Project Manager  \n",
       "376             Web Developer  \n",
       "377  Administrative Assistant  \n",
       "378  Administrative Assistant  \n",
       "\n",
       "[379 rows x 4 columns]"
      ]
     },
     "execution_count": 11,
     "metadata": {},
     "output_type": "execute_result"
    }
   ],
   "source": [
    "preds_data = {'Current Position Requirements': [], 'Current Position': [], 'Alternative 1': [], 'Alternative 2': []}\n",
    "y_preds_proba = logistic.predict_proba(X_test)\n",
    "\n",
    "counter = 0 \n",
    "for idx, (pred_row, true_job_position) in enumerate(zip(y_preds_proba, y_test)):\n",
    "    class_preds = np.argsort(pred_row)\n",
    "    # delete true class\n",
    "    for i in [-1, -2]:\n",
    "        if class_preds[i] == true_job_position:\n",
    "            class_preds=np.delete(class_preds,i)\n",
    "    # getting other 2 highest job predictions         \n",
    "    top_classes = class_preds[-2:]\n",
    "    # obtaining class name string from int label \n",
    "    class_names = enc.inverse_transform(top_classes)\n",
    "    true_job_position_name = enc.inverse_transform([true_job_position])\n",
    "    # saving to dict\n",
    "    preds_data['Current Position Requirements'].append(X_test_words.iloc[idx])\n",
    "    preds_data['Current Position'].append(true_job_position_name[0])\n",
    "    preds_data['Alternative 1'].append(class_names[1])\n",
    "    preds_data['Alternative 2'].append(class_names[0])\n",
    "\n",
    "    \n",
    "    counter +=1\n",
    "\n",
    "preds_df = pd.DataFrame.from_dict(preds_data)\n",
    "preds_df.to_csv('Recommendations.csv', index=False)\n",
    "preds_df\n",
    "\n",
    "from sklearn.metrics import confusion_matrix\n",
    "import seaborn as sns\n",
    "import matplotlib.pyplot as plt\n",
    "\n",
    "cm = confusion_matrix(y_test, test_preds)\n",
    "plt.figure(figsize=(10,10))\n",
    "sns.heatmap(cm, annot=True, fmt=\"d\")\n",
    "plt.title(\"Confusion matrix\")\n",
    "plt.ylabel('True label')\n",
    "plt.xlabel('Predicted label')\n",
    "plt.show()\n",
    "\n",
    "def make_prediction(text):\n",
    "    text = [text]\n",
    "    text = vectorizer.transform(text)\n",
    "    text = text.toarray()\n",
    "    pred = logistic.predict(text)\n",
    "    return enc.inverse_transform(pred)[0]\n",
    "\n",
    "#save model\n",
    "import pickle\n",
    "pickle.dump(logistic, open('itreq.pkl','wb'))\n",
    "\n",
    "preds_df"
   ]
  },
  {
   "cell_type": "code",
   "execution_count": 10,
   "metadata": {},
   "outputs": [
    {
     "name": "stdout",
     "output_type": "stream",
     "text": [
      "Project Manager\n"
     ]
    }
   ],
   "source": [
    "print(make_prediction(''' \n",
    "Proven working experience in project management.\n",
    "Excellent client-facing and internal communication skills.\n",
    "Excellent written and verbal communication skills.\n",
    "Solid organizational skills including attention to detail and multitasking skills.\n",
    "Strong working knowledge of Microsoft Office.\n",
    "'''))"
   ]
  }
 ],
 "metadata": {
  "kernelspec": {
   "display_name": "Python 3",
   "language": "python",
   "name": "python3"
  },
  "language_info": {
   "codemirror_mode": {
    "name": "ipython",
    "version": 3
   },
   "file_extension": ".py",
   "mimetype": "text/x-python",
   "name": "python",
   "nbconvert_exporter": "python",
   "pygments_lexer": "ipython3",
   "version": "3.10.6"
  },
  "vscode": {
   "interpreter": {
    "hash": "369f2c481f4da34e4445cda3fffd2e751bd1c4d706f27375911949ba6bb62e1c"
   }
  }
 },
 "nbformat": 4,
 "nbformat_minor": 1
}
